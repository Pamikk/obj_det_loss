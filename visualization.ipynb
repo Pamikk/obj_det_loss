{
 "metadata": {
  "language_info": {
   "codemirror_mode": {
    "name": "ipython",
    "version": 3
   },
   "file_extension": ".py",
   "mimetype": "text/x-python",
   "name": "python",
   "nbconvert_exporter": "python",
   "pygments_lexer": "ipython3",
   "version": "3.7.9-final"
  },
  "orig_nbformat": 2,
  "kernelspec": {
   "name": "python3",
   "display_name": "Python 3",
   "language": "python"
  }
 },
 "nbformat": 4,
 "nbformat_minor": 2,
 "cells": [
  {
   "cell_type": "code",
   "execution_count": 1,
   "metadata": {},
   "outputs": [],
   "source": [
    "###libs\n",
    "import os\n",
    "import argparse\n",
    "import torch\n",
    "from torch.utils.data import DataLoader\n",
    "import matplotlib.pyplot as plt\n",
    "import cv2 \n",
    "###files\n",
    "from config import Config as cfg\n",
    "from dataProcessing import VOC_dataset as dataset\n",
    "from models.network import NetAPI\n",
    "from trainer import Trainer\n",
    "from utils import tensor_to_img\n"
   ]
  },
  {
   "cell_type": "code",
   "execution_count": null,
   "metadata": {},
   "outputs": [],
   "source": [
    "def draw_bboxes(img,bboxes,color,th=1):\n",
    "    img_ = img.copy()\n",
    "    for bbox in bboxes:\n",
    "        x,y,w,h = bbox\n",
    "        pt1 = (int(x-w/2),int(y-h/2))\n",
    "        pt2 = (int(x+w/2),int(y+h/2))\n",
    "        img_ =cv2.rectangle(img_,pt1,pt2,color,thickness = th)\n",
    "    return img_\n",
    "def draw_bboxes_wt_text(img,bboxes,color,th=1):\n",
    "    img_ = img.copy()\n",
    "    for bbox in bboxes:\n",
    "        x,y,w,h = bbox\n",
    "        pt1 = (int(x-w/2),int(y-h/2))\n",
    "        pt2 = (int(x+w/2),int(y+h/2))\n",
    "        img_ =cv2.rectangle(img_,pt1,pt2,color,thickness = th)\n",
    "    return img_"
   ]
  },
  {
   "cell_type": "code",
   "execution_count": 2,
   "metadata": {},
   "outputs": [],
   "source": [
    "exp = 'debug'\n",
    "resume = 'best'\n",
    "net = 'yolo'"
   ]
  },
  {
   "cell_type": "code",
   "execution_count": 3,
   "metadata": {},
   "outputs": [],
   "source": [
    "config  = cfg(mode='val')\n",
    "val_set = dataset(config)\n",
    "val_set = dataset(config,mode='val')\n",
    "val_bs = 2\n",
    "val_loader = DataLoader(val_set,batch_size=val_bs,shuffle=False,pin_memory=False,collate_fn=val_set.collate_fn)\n",
    "datasets = {'val':val_loader}\n",
    "\n",
    "config.device = torch.device(\"cuda\")\n",
    "torch.cuda.empty_cache()\n",
    "#for reproducity\n",
    "torch.manual_seed(2333)\n",
    "torch.backends.cudnn.deterministic = True\n",
    "torch.backends.cudnn.benchmark = False\n"
   ]
  },
  {
   "cell_type": "code",
   "execution_count": 4,
   "metadata": {},
   "outputs": [
    {
     "output_type": "stream",
     "name": "stdout",
     "text": [
      "75 72 3 61678657\nfinish load from path: ../network_weights/yolov3.weights\n"
     ]
    }
   ],
   "source": [
    "network = NetAPI(config,net,'yolo')\n"
   ]
  },
  {
   "cell_type": "code",
   "execution_count": 5,
   "metadata": {},
   "outputs": [
    {
     "output_type": "stream",
     "name": "stdout",
     "text": [
      "load:../checkpoints/debug/epoch_best.pt\n"
     ]
    }
   ],
   "source": [
    "config.exp_name = exp\n",
    "det = Trainer(config,datasets,network,(resume,-1))"
   ]
  },
  {
   "cell_type": "code",
   "execution_count": 6,
   "metadata": {},
   "outputs": [
    {
     "output_type": "stream",
     "name": "stdout",
     "text": [
      "torch.Size([3, 416, 416])\n"
     ]
    }
   ],
   "source": [
    "imgs,pds,gts,sizes = det.validate_random()\n",
    "print(imgs[0].shape)"
   ]
  },
  {
   "cell_type": "code",
   "execution_count": null,
   "metadata": {},
   "outputs": [],
   "source": [
    "for b in range(val_bs):\n",
    "    pd = pds[b]\n",
    "    gt = gts[b]\n",
    "    size = sizes[b]\n",
    "    img = cv2.resize((tensor_to_img(imgs[b]),size)\n",
    "    plt.imshow(img)"
   ]
  }
 ]
}